{
 "cells": [
  {
   "cell_type": "markdown",
   "id": "2989ca40",
   "metadata": {},
   "source": [
    "# SciPy"
   ]
  },
  {
   "cell_type": "code",
   "execution_count": 10,
   "id": "35efba18",
   "metadata": {},
   "outputs": [],
   "source": [
    "import scipy.constants\n",
    "import numpy as np\n",
    "import scipy.linalg"
   ]
  },
  {
   "cell_type": "code",
   "execution_count": 9,
   "id": "a359697a",
   "metadata": {},
   "outputs": [
    {
     "data": {
      "text/plain": [
       "9.80665"
      ]
     },
     "execution_count": 9,
     "metadata": {},
     "output_type": "execute_result"
    }
   ],
   "source": [
    "# constatns\n",
    "scipy.constants.pi\n",
    "scipy.constants.golden_ratio\n",
    "scipy.constants.mu_0\n",
    "scipy.constants.c\n",
    "scipy.constants.epsilon_0\n",
    "scipy.constants.h\n",
    "scipy.constants.G\n",
    "scipy.constants.g"
   ]
  },
  {
   "cell_type": "code",
   "execution_count": 12,
   "id": "ca0ad423",
   "metadata": {},
   "outputs": [
    {
     "data": {
      "text/plain": [
       "array([[0, 2, 3],\n",
       "       [4, 5, 6],\n",
       "       [7, 8, 9]])"
      ]
     },
     "execution_count": 12,
     "metadata": {},
     "output_type": "execute_result"
    }
   ],
   "source": [
    "x = np.array([[0,2,3],\n",
    "         [4,5,6],\n",
    "         [7,8,9]])\n",
    "x"
   ]
  },
  {
   "cell_type": "code",
   "execution_count": 15,
   "id": "5ee0c302",
   "metadata": {},
   "outputs": [
    {
     "data": {
      "text/plain": [
       "array([[-1.        ,  2.        , -1.        ],\n",
       "       [ 2.        , -7.        ,  4.        ],\n",
       "       [-1.        ,  4.66666667, -2.66666667]])"
      ]
     },
     "execution_count": 15,
     "metadata": {},
     "output_type": "execute_result"
    }
   ],
   "source": [
    "scipy.linalg.inv(x)"
   ]
  },
  {
   "cell_type": "code",
   "execution_count": 20,
   "id": "46138f9c",
   "metadata": {},
   "outputs": [
    {
     "data": {
      "text/plain": [
       "array([2.74285714, 0.71428571, 3.4       ])"
      ]
     },
     "execution_count": 20,
     "metadata": {},
     "output_type": "execute_result"
    }
   ],
   "source": [
    "# ax = b\n",
    "a = np.array([[2,1,-3],\n",
    "         [4,2,-1],\n",
    "         [3,5,-2]])\n",
    "b = np.array([-4,9,5])\n",
    "\n",
    "scipy.linalg.solve(a,b)"
   ]
  },
  {
   "cell_type": "code",
   "execution_count": null,
   "id": "24efbffb",
   "metadata": {},
   "outputs": [],
   "source": [
    "a = np.array([[0,2,3],\n",
    "         [4,5,6],\n",
    "         [7,8,9]])\n",
    "a"
   ]
  },
  {
   "cell_type": "code",
   "execution_count": 22,
   "id": "4623db74",
   "metadata": {},
   "outputs": [
    {
     "data": {
      "text/plain": [
       "8.54400374531753"
      ]
     },
     "execution_count": 22,
     "metadata": {},
     "output_type": "execute_result"
    }
   ],
   "source": [
    "scipy.linalg.det(a)\n",
    "scipy.linalg.norm(a)"
   ]
  },
  {
   "cell_type": "code",
   "execution_count": 26,
   "id": "55d5d0c3",
   "metadata": {},
   "outputs": [
    {
     "data": {
      "text/plain": [
       "array([[ 0,  1,  2,  3,  4,  5],\n",
       "       [ 6,  7,  8,  9, 10, 11],\n",
       "       [12, 13, 14, 15, 16, 17],\n",
       "       [18, 19, 20, 21, 22, 23],\n",
       "       [24, 25, 26, 27, 28, 29],\n",
       "       [30, 31, 32, 33, 34, 35]])"
      ]
     },
     "execution_count": 26,
     "metadata": {},
     "output_type": "execute_result"
    }
   ],
   "source": [
    "a  = np.arange(36).reshape((6,6))\n",
    "a"
   ]
  },
  {
   "cell_type": "code",
   "execution_count": 28,
   "id": "2bc08523",
   "metadata": {},
   "outputs": [
    {
     "data": {
      "text/plain": [
       "array([[ 0,  0,  0,  0,  0,  0],\n",
       "       [ 6,  7,  0,  0,  0,  0],\n",
       "       [12, 13, 14,  0,  0,  0],\n",
       "       [18, 19, 20, 21,  0,  0],\n",
       "       [24, 25, 26, 27, 28,  0],\n",
       "       [30, 31, 32, 33, 34, 35]])"
      ]
     },
     "execution_count": 28,
     "metadata": {},
     "output_type": "execute_result"
    }
   ],
   "source": [
    "scipy.linalg.tril(a, k = 0) #lower trangular matrix"
   ]
  },
  {
   "cell_type": "code",
   "execution_count": 29,
   "id": "7d92dd60",
   "metadata": {},
   "outputs": [
    {
     "data": {
      "text/plain": [
       "array([[ 0,  1,  2,  3,  4,  5,  6],\n",
       "       [ 7,  8,  9, 10, 11, 12, 13],\n",
       "       [14, 15, 16, 17, 18, 19, 20],\n",
       "       [21, 22, 23, 24, 25, 26, 27],\n",
       "       [28, 29, 30, 31, 32, 33, 34],\n",
       "       [35, 36, 37, 38, 39, 40, 41],\n",
       "       [42, 43, 44, 45, 46, 47, 48]])"
      ]
     },
     "execution_count": 29,
     "metadata": {},
     "output_type": "execute_result"
    }
   ],
   "source": [
    "a  = np.arange(49).reshape((7,7))\n",
    "a"
   ]
  },
  {
   "cell_type": "code",
   "execution_count": 32,
   "id": "0628e43f",
   "metadata": {},
   "outputs": [],
   "source": [
    "# permuation\n",
    "p,l,u = scipy.linalg.lu(a)"
   ]
  },
  {
   "cell_type": "code",
   "execution_count": 33,
   "id": "d0cdb823",
   "metadata": {},
   "outputs": [
    {
     "data": {
      "text/plain": [
       "(array([[0., 1., 0., 0., 0., 0., 0.],\n",
       "        [0., 0., 0., 0., 0., 0., 1.],\n",
       "        [0., 0., 0., 1., 0., 0., 0.],\n",
       "        [0., 0., 0., 0., 0., 1., 0.],\n",
       "        [0., 0., 0., 0., 1., 0., 0.],\n",
       "        [0., 0., 1., 0., 0., 0., 0.],\n",
       "        [1., 0., 0., 0., 0., 0., 0.]]),\n",
       " array([[ 1.        ,  0.        ,  0.        ,  0.        ,  0.        ,\n",
       "          0.        ,  0.        ],\n",
       "        [ 0.        ,  1.        ,  0.        ,  0.        ,  0.        ,\n",
       "          0.        ,  0.        ],\n",
       "        [ 0.83333333,  0.16666667,  1.        ,  0.        ,  0.        ,\n",
       "          0.        ,  0.        ],\n",
       "        [ 0.33333333,  0.66666667, -0.        ,  1.        ,  0.        ,\n",
       "          0.        ,  0.        ],\n",
       "        [ 0.66666667,  0.33333333,  0.5       , -0.        ,  1.        ,\n",
       "          0.        ,  0.        ],\n",
       "        [ 0.5       ,  0.5       , -0.        , -0.        ,  0.        ,\n",
       "          1.        ,  0.        ],\n",
       "        [ 0.16666667,  0.83333333, -0.        ,  0.5       ,  0.        ,\n",
       "          0.        ,  1.        ]]),\n",
       " array([[ 4.20000000e+01,  4.30000000e+01,  4.40000000e+01,\n",
       "          4.50000000e+01,  4.60000000e+01,  4.70000000e+01,\n",
       "          4.80000000e+01],\n",
       "        [ 0.00000000e+00,  1.00000000e+00,  2.00000000e+00,\n",
       "          3.00000000e+00,  4.00000000e+00,  5.00000000e+00,\n",
       "          6.00000000e+00],\n",
       "        [ 0.00000000e+00,  0.00000000e+00, -7.10542736e-15,\n",
       "         -1.42108547e-14, -1.42108547e-14, -2.13162821e-14,\n",
       "         -2.84217094e-14],\n",
       "        [ 0.00000000e+00,  0.00000000e+00,  0.00000000e+00,\n",
       "         -3.55271368e-15, -3.55271368e-15, -7.10542736e-15,\n",
       "         -7.10542736e-15],\n",
       "        [ 0.00000000e+00,  0.00000000e+00,  0.00000000e+00,\n",
       "          0.00000000e+00,  0.00000000e+00,  0.00000000e+00,\n",
       "          0.00000000e+00],\n",
       "        [ 0.00000000e+00,  0.00000000e+00,  0.00000000e+00,\n",
       "          0.00000000e+00,  0.00000000e+00,  0.00000000e+00,\n",
       "          0.00000000e+00],\n",
       "        [ 0.00000000e+00,  0.00000000e+00,  0.00000000e+00,\n",
       "          0.00000000e+00,  0.00000000e+00,  0.00000000e+00,\n",
       "          0.00000000e+00]]))"
      ]
     },
     "execution_count": 33,
     "metadata": {},
     "output_type": "execute_result"
    }
   ],
   "source": [
    "p, l , u"
   ]
  },
  {
   "cell_type": "code",
   "execution_count": 34,
   "id": "3550447f",
   "metadata": {},
   "outputs": [
    {
     "data": {
      "text/plain": [
       "(array([[ 0.        , -0.68138514,  0.7034235 ,  0.15227561, -0.09167099,\n",
       "          0.0963191 , -0.0063927 ],\n",
       "        [-0.10482848, -0.52414242, -0.48427589, -0.40522285, -0.50386494,\n",
       "          0.00634396,  0.2482678 ],\n",
       "        [-0.20965697, -0.36689969, -0.31703763,  0.2717978 ,  0.70337963,\n",
       "         -0.0145756 ,  0.38998245],\n",
       "        [-0.31448545, -0.20965697, -0.27902687,  0.12409903,  0.06804535,\n",
       "          0.37081658, -0.78851201],\n",
       "        [-0.41931393, -0.05241424,  0.0061139 ,  0.19082455, -0.12838264,\n",
       "         -0.85279117, -0.20308201],\n",
       "        [-0.52414242,  0.10482848,  0.29384177, -0.72867679,  0.30846128,\n",
       "          0.04180058,  0.00878746],\n",
       "        [-0.6289709 ,  0.26207121,  0.07696122,  0.39490265, -0.35596771,\n",
       "          0.35208654,  0.35094901]]),\n",
       " array([[-6.67757441e+01, -6.89771423e+01, -7.11785404e+01,\n",
       "         -7.33799386e+01, -7.55813367e+01, -7.77827349e+01,\n",
       "         -7.99841330e+01],\n",
       "        [ 0.00000000e+00, -1.46759877e+00, -2.93519754e+00,\n",
       "         -4.40279631e+00, -5.87039509e+00, -7.33799386e+00,\n",
       "         -8.80559263e+00],\n",
       "        [ 0.00000000e+00,  0.00000000e+00, -1.40810719e-14,\n",
       "         -1.41519712e-14, -1.38648185e-14, -1.78984593e-14,\n",
       "         -3.25441134e-14],\n",
       "        [ 0.00000000e+00,  0.00000000e+00,  0.00000000e+00,\n",
       "         -4.52236077e-16,  5.03557283e-15,  6.48561431e-15,\n",
       "          6.57409347e-15],\n",
       "        [ 0.00000000e+00,  0.00000000e+00,  0.00000000e+00,\n",
       "          0.00000000e+00, -2.65299627e-15, -1.23305623e-15,\n",
       "         -1.70588267e-15],\n",
       "        [ 0.00000000e+00,  0.00000000e+00,  0.00000000e+00,\n",
       "          0.00000000e+00,  0.00000000e+00, -6.66303941e-15,\n",
       "         -6.40276253e-15],\n",
       "        [ 0.00000000e+00,  0.00000000e+00,  0.00000000e+00,\n",
       "          0.00000000e+00,  0.00000000e+00,  0.00000000e+00,\n",
       "          4.13576595e-16]]))"
      ]
     },
     "execution_count": 34,
     "metadata": {},
     "output_type": "execute_result"
    }
   ],
   "source": [
    "q , r = scipy.linalg.qr(a)\n",
    "\n",
    "q,r"
   ]
  },
  {
   "cell_type": "code",
   "execution_count": 36,
   "id": "d6da1d7d",
   "metadata": {},
   "outputs": [],
   "source": [
    "%matplotlib inline\n",
    "import matplotlib.pyplot as plt\n",
    "from scipy.cluster.vq import kmeans"
   ]
  },
  {
   "cell_type": "code",
   "execution_count": 38,
   "id": "c4a0f52b",
   "metadata": {},
   "outputs": [
    {
     "data": {
      "text/plain": [
       "array([[0.4386913 , 0.76149333],\n",
       "       [0.35415386, 0.54499188],\n",
       "       [0.33244568, 0.23684708],\n",
       "       [0.7303049 , 0.34456824],\n",
       "       [0.14168305, 0.62603496],\n",
       "       [0.70900788, 0.89113337],\n",
       "       [0.77583889, 0.2690043 ],\n",
       "       [0.54015683, 0.29037654],\n",
       "       [0.78538823, 0.84302247],\n",
       "       [0.53074033, 0.17434101],\n",
       "       [0.74958098, 0.41866366],\n",
       "       [0.66077344, 0.25813566],\n",
       "       [0.81123151, 0.98291835],\n",
       "       [0.9042208 , 0.41671414],\n",
       "       [0.07705532, 0.7043786 ],\n",
       "       [0.81005976, 0.40493421],\n",
       "       [0.55811802, 0.90158295],\n",
       "       [0.20935332, 0.73759345],\n",
       "       [0.93022531, 0.11440179],\n",
       "       [0.48924027, 0.1078197 ],\n",
       "       [0.61046431, 0.6354532 ],\n",
       "       [0.59018196, 0.90296989],\n",
       "       [0.87773037, 0.79807774],\n",
       "       [0.42809065, 0.93972029],\n",
       "       [0.85195594, 0.11678486],\n",
       "       [0.4162351 , 0.07762336],\n",
       "       [0.8143707 , 0.86772378],\n",
       "       [0.97371039, 0.82624065],\n",
       "       [0.13828465, 0.82529263],\n",
       "       [0.39401201, 0.10515894],\n",
       "       [0.15607508, 0.09687711],\n",
       "       [0.78839479, 0.58776402],\n",
       "       [0.81452223, 0.22825353],\n",
       "       [0.1174619 , 0.2286571 ],\n",
       "       [0.51644299, 0.7830821 ],\n",
       "       [0.51346821, 0.85981312],\n",
       "       [0.10804579, 0.93612716],\n",
       "       [0.5251447 , 0.36009637],\n",
       "       [0.1600172 , 0.78983618],\n",
       "       [0.37646904, 0.12812816],\n",
       "       [0.70868581, 0.58405059],\n",
       "       [0.10659923, 0.6643791 ],\n",
       "       [0.76566353, 0.5335006 ],\n",
       "       [0.27857285, 0.02869489],\n",
       "       [0.91237864, 0.8780665 ],\n",
       "       [0.87963152, 0.89309105],\n",
       "       [0.95237078, 0.02583129],\n",
       "       [0.32344842, 0.18448397],\n",
       "       [0.75580176, 0.60457963],\n",
       "       [0.5129522 , 0.03487389],\n",
       "       [0.37689348, 0.3290982 ],\n",
       "       [0.75313263, 0.24899842],\n",
       "       [0.78213125, 0.07831921],\n",
       "       [0.73305759, 0.83829376],\n",
       "       [0.47620837, 0.19630645],\n",
       "       [0.8140845 , 0.62691691],\n",
       "       [0.52262981, 0.42636666],\n",
       "       [0.9712416 , 0.15132388],\n",
       "       [0.49979698, 0.38496739],\n",
       "       [0.68705447, 0.10445134],\n",
       "       [0.24057724, 0.54206523],\n",
       "       [0.65972876, 0.4749824 ],\n",
       "       [0.0060813 , 0.30025748],\n",
       "       [0.85806227, 0.32933329],\n",
       "       [0.85582928, 0.33443788],\n",
       "       [0.28711299, 0.82894864],\n",
       "       [0.79760048, 0.44853715],\n",
       "       [0.1421669 , 0.98379571],\n",
       "       [0.30213012, 0.09791292],\n",
       "       [0.71104926, 0.936895  ],\n",
       "       [0.87660806, 0.75009253],\n",
       "       [0.8634095 , 0.43613888],\n",
       "       [0.02025994, 0.24025552],\n",
       "       [0.72198526, 0.0747694 ],\n",
       "       [0.72643112, 0.71139842],\n",
       "       [0.43511384, 0.04873759],\n",
       "       [0.6275751 , 0.29180616],\n",
       "       [0.62184466, 0.31293688],\n",
       "       [0.88877555, 0.04391737],\n",
       "       [0.37450661, 0.86616147],\n",
       "       [0.18400613, 0.07086316],\n",
       "       [0.94634306, 0.58261534],\n",
       "       [0.02540064, 0.16309702],\n",
       "       [0.83093489, 0.23102401],\n",
       "       [0.96861533, 0.00432308],\n",
       "       [0.35799456, 0.96194722],\n",
       "       [0.25679344, 0.58738322],\n",
       "       [0.61804774, 0.16367642],\n",
       "       [0.32008968, 0.76306317],\n",
       "       [0.89303095, 0.29001566],\n",
       "       [0.94955885, 0.94830402],\n",
       "       [0.74819982, 0.64490171],\n",
       "       [0.89186967, 0.14792347],\n",
       "       [0.72435451, 0.51153564],\n",
       "       [0.93235641, 0.09254573],\n",
       "       [0.69594324, 0.64605485],\n",
       "       [0.92386443, 0.47202535],\n",
       "       [0.60930397, 0.95752292],\n",
       "       [0.27752894, 0.2487461 ],\n",
       "       [0.25224674, 0.40040216]])"
      ]
     },
     "execution_count": 38,
     "metadata": {},
     "output_type": "execute_result"
    }
   ],
   "source": [
    "data = np.random.rand(100,2)\n",
    "data"
   ]
  },
  {
   "cell_type": "code",
   "execution_count": 45,
   "id": "d104906e",
   "metadata": {},
   "outputs": [
    {
     "data": {
      "image/png": "[encoded data removed]",
      "text/plain": [
       "<Figure size 432x288 with 1 Axes>"
      ]
     },
     "metadata": {
      "needs_background": "light"
     },
     "output_type": "display_data"
    }
   ],
   "source": [
    "centroid, _ =kmeans(data,10)\n",
    "plt.scatter(data[:,0],data[:,1])\n",
    "plt.scatter(centroid[:,0],centroid[:, 1], c = 'r')\n",
    "plt.show()"
   ]
  },
  {
   "cell_type": "code",
   "execution_count": 46,
   "id": "d91082c9",
   "metadata": {},
   "outputs": [],
   "source": [
    "from scipy import signal"
   ]
  },
  {
   "cell_type": "code",
   "execution_count": 55,
   "id": "809ac9c6",
   "metadata": {},
   "outputs": [],
   "source": [
    "a = b = np.arange(25).reshape((5,5))"
   ]
  },
  {
   "cell_type": "code",
   "execution_count": 56,
   "id": "2dc3b883",
   "metadata": {},
   "outputs": [
    {
     "data": {
      "text/plain": [
       "array([[   0,    0,    1,    4,   10,   20,   25,   24,   16],\n",
       "       [   0,   10,   32,   68,  120,  140,  140,  118,   72],\n",
       "       [  25,   80,  168,  292,  455,  460,  420,  332,  193],\n",
       "       [ 100,  260,  484,  776, 1140, 1080,  940,  716,  404],\n",
       "       [ 250,  600, 1055, 1620, 2300, 2100, 1775, 1320,  730],\n",
       "       [ 500, 1100, 1804, 2616, 3540, 3080, 2500, 1796,  964],\n",
       "       [ 625, 1340, 2148, 3052, 4055, 3460, 2760, 1952, 1033],\n",
       "       [ 600, 1270, 2012, 2828, 3720, 3140, 2480, 1738,  912],\n",
       "       [ 400,  840, 1321, 1844, 2410, 2020, 1585, 1104,  576]])"
      ]
     },
     "execution_count": 56,
     "metadata": {},
     "output_type": "execute_result"
    }
   ],
   "source": [
    "signal.convolve2d(a,b)"
   ]
  },
  {
   "cell_type": "code",
   "execution_count": 57,
   "id": "a03c082e",
   "metadata": {},
   "outputs": [
    {
     "data": {
      "text/plain": [
       "array([[   0,   24,   71,  140,  230,  220,  191,  144,   80],\n",
       "       [ 120,  278,  472,  700,  960,  820,  652,  458,  240],\n",
       "       [ 335,  712, 1128, 1580, 2065, 1700, 1308,  892,  455],\n",
       "       [ 620, 1276, 1964, 2680, 3420, 2760, 2084, 1396,  700],\n",
       "       [ 950, 1920, 2905, 3900, 4900, 3900, 2905, 1920,  950],\n",
       "       [ 700, 1396, 2084, 2760, 3420, 2680, 1964, 1276,  620],\n",
       "       [ 455,  892, 1308, 1700, 2065, 1580, 1128,  712,  335],\n",
       "       [ 240,  458,  652,  820,  960,  700,  472,  278,  120],\n",
       "       [  80,  144,  191,  220,  230,  140,   71,   24,    0]])"
      ]
     },
     "execution_count": 57,
     "metadata": {},
     "output_type": "execute_result"
    }
   ],
   "source": [
    "signal.correlate2d(a,b)"
   ]
  },
  {
   "cell_type": "code",
   "execution_count": null,
   "id": "21c292f4",
   "metadata": {},
   "outputs": [],
   "source": []
  },
  {
   "cell_type": "code",
   "execution_count": null,
   "id": "57d5812a",
   "metadata": {},
   "outputs": [],
   "source": []
  }
 ],
 "metadata": {
  "kernelspec": {
   "display_name": "Python 3 (ipykernel)",
   "language": "python",
   "name": "python3"
  },
  "language_info": {
   "codemirror_mode": {
    "name": "ipython",
    "version": 3
   },
   "file_extension": ".py",
   "mimetype": "text/x-python",
   "name": "python",
   "nbconvert_exporter": "python",
   "pygments_lexer": "ipython3",
   "version": "3.10.0"
  }
 },
 "nbformat": 4,
 "nbformat_minor": 5
}
