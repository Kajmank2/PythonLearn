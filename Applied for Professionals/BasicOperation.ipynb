{
 "cells": [
  {
   "cell_type": "markdown",
   "id": "ce170fde",
   "metadata": {},
   "source": [
    "# REMINDER"
   ]
  },
  {
   "cell_type": "markdown",
   "id": "b7926fc8",
   "metadata": {},
   "source": [
    "###  Lists in Python3"
   ]
  },
  {
   "cell_type": "code",
   "execution_count": 1,
   "id": "2199b582",
   "metadata": {},
   "outputs": [],
   "source": [
    "list1 = [1,2,3,4]"
   ]
  },
  {
   "cell_type": "code",
   "execution_count": 3,
   "id": "18d043d5",
   "metadata": {},
   "outputs": [
    {
     "data": {
      "text/plain": [
       "[1, 2, 3, 4]"
      ]
     },
     "execution_count": 3,
     "metadata": {},
     "output_type": "execute_result"
    }
   ],
   "source": [
    "list1"
   ]
  },
  {
   "cell_type": "code",
   "execution_count": 4,
   "id": "4107cd67",
   "metadata": {},
   "outputs": [
    {
     "data": {
      "text/plain": [
       "4"
      ]
     },
     "execution_count": 4,
     "metadata": {},
     "output_type": "execute_result"
    }
   ],
   "source": [
    "#last item\n",
    "list1[-1]"
   ]
  },
  {
   "cell_type": "code",
   "execution_count": 5,
   "id": "07eaeeff",
   "metadata": {},
   "outputs": [
    {
     "data": {
      "text/plain": [
       "[2, 3]"
      ]
     },
     "execution_count": 5,
     "metadata": {},
     "output_type": "execute_result"
    }
   ],
   "source": [
    "#range\n",
    "list1[1:3]"
   ]
  },
  {
   "cell_type": "markdown",
   "id": "188d0f46",
   "metadata": {},
   "source": [
    "### Linked Lists"
   ]
  },
  {
   "cell_type": "code",
   "execution_count": 20,
   "id": "d83282d5",
   "metadata": {},
   "outputs": [],
   "source": [
    "class Node:\n",
    "        def __init__(self,data):\n",
    "            self.data = data\n",
    "            self.next = None"
   ]
  },
  {
   "cell_type": "code",
   "execution_count": 25,
   "id": "8e6b294c",
   "metadata": {},
   "outputs": [],
   "source": [
    "class LinkedList:    \n",
    "    def __init__(self):\n",
    "        self.head = None\n",
    "    \n",
    "    def printList(self):\n",
    "        temp = self.head\n",
    "        while(temp):\n",
    "            print(temp.data)\n",
    "            temp=temp.next"
   ]
  },
  {
   "cell_type": "code",
   "execution_count": 26,
   "id": "a25ff3c4",
   "metadata": {},
   "outputs": [
    {
     "name": "stdout",
     "output_type": "stream",
     "text": [
      "1\n",
      "2\n",
      "3\n"
     ]
    }
   ],
   "source": [
    "if __name__ =='__main__':\n",
    "    \n",
    "    llist=LinkedList()\n",
    "    \n",
    "    llist.head=Node(1)\n",
    "    second = Node(2)\n",
    "    third = Node(3)\n",
    "    \n",
    "    llist.head.next = second\n",
    "    second.next=third\n",
    "    \n",
    "    llist.printList()"
   ]
  },
  {
   "cell_type": "markdown",
   "id": "f86f4631",
   "metadata": {},
   "source": [
    "## STACK"
   ]
  },
  {
   "cell_type": "code",
   "execution_count": 30,
   "id": "d2b4b300",
   "metadata": {},
   "outputs": [],
   "source": [
    "stack = []\n",
    "\n",
    "stack.append('a')\n",
    "stack.append('b')\n",
    "stack.append('c')\n"
   ]
  },
  {
   "cell_type": "code",
   "execution_count": 32,
   "id": "4104e652",
   "metadata": {},
   "outputs": [
    {
     "name": "stdout",
     "output_type": "stream",
     "text": [
      "b\n"
     ]
    },
    {
     "data": {
      "text/plain": [
       "['a']"
      ]
     },
     "execution_count": 32,
     "metadata": {},
     "output_type": "execute_result"
    }
   ],
   "source": [
    "print(stack.pop()) #delete last elem\n",
    "stack"
   ]
  },
  {
   "cell_type": "markdown",
   "id": "89905aae",
   "metadata": {},
   "source": [
    "## Queue"
   ]
  },
  {
   "cell_type": "code",
   "execution_count": 39,
   "id": "055d1dfb",
   "metadata": {},
   "outputs": [],
   "source": [
    "queue = []\n",
    "queue.append('a')\n",
    "queue.append('b')\n",
    "queue.append('c')"
   ]
  },
  {
   "cell_type": "code",
   "execution_count": 41,
   "id": "7e771213",
   "metadata": {},
   "outputs": [
    {
     "data": {
      "text/plain": [
       "['b', 'c']"
      ]
     },
     "execution_count": 41,
     "metadata": {},
     "output_type": "execute_result"
    }
   ],
   "source": [
    "queue.pop(0) #delete first item\n",
    "queue"
   ]
  },
  {
   "cell_type": "code",
   "execution_count": 48,
   "id": "c6cad76e",
   "metadata": {},
   "outputs": [],
   "source": [
    "from queue import Queue\n",
    "q = Queue(maxsize = 3)\n",
    "q.qsize()\n",
    "q.put('a')\n",
    "q.put('b')\n",
    "q.put('c')"
   ]
  },
  {
   "cell_type": "code",
   "execution_count": null,
   "id": "4ccb1385",
   "metadata": {},
   "outputs": [],
   "source": [
    "print((q.full()))"
   ]
  },
  {
   "cell_type": "code",
   "execution_count": null,
   "id": "2d58439e",
   "metadata": {},
   "outputs": [],
   "source": [
    "q.get()\n"
   ]
  },
  {
   "cell_type": "markdown",
   "id": "50f0733b",
   "metadata": {},
   "source": [
    "## TREES"
   ]
  },
  {
   "cell_type": "code",
   "execution_count": 18,
   "id": "5145d9ab",
   "metadata": {},
   "outputs": [],
   "source": [
    "class Node:\n",
    "    def __init__ (self,data):\n",
    "        self.left=None\n",
    "        self.right=None\n",
    "        self.data = data\n",
    "        \n",
    "    def insert(self,data):\n",
    "        if self.data:\n",
    "            if data < self.data:\n",
    "                if self.left is None:\n",
    "                    self.left = Node(data)\n",
    "                else:\n",
    "                    self.left.insert(data)\n",
    "            elif data> self.data:\n",
    "                    if self.right is None:\n",
    "                        self.right = Node(data)\n",
    "                    else:\n",
    "                        self.right.insert(data)\n",
    "        else:\n",
    "            self.data = data\n",
    "            \n",
    "    def Inorder(self):\n",
    "        if self.left:\n",
    "            self.left.Inorder()\n",
    "        print(self.data)\n",
    "        if self.right:\n",
    "            self.right.Inorder()\n",
    "        \n",
    "    def Preorder(self):\n",
    "        print(self.data)\n",
    "        if self.left:\n",
    "            self.left.Preorder()\n",
    "        if self.right:\n",
    "            self.right.Preorder()\n",
    "            \n",
    "    def Postorder(self):\n",
    "        if self.left:\n",
    "            self.left.Postorder()\n",
    "        if self.right:\n",
    "            self.right.Postorder()\n",
    "        print(self.data)\n",
    "        \n",
    "    "
   ]
  },
  {
   "cell_type": "code",
   "execution_count": 19,
   "id": "daa1372b",
   "metadata": {},
   "outputs": [],
   "source": [
    "root = Node(27)\n",
    "root.insert(35)\n",
    "root.insert(14)\n",
    "root.insert(22)\n",
    "root.insert(11)"
   ]
  },
  {
   "cell_type": "code",
   "execution_count": 20,
   "id": "3a9a09b9",
   "metadata": {},
   "outputs": [
    {
     "name": "stdout",
     "output_type": "stream",
     "text": [
      "11\n",
      "14\n",
      "22\n",
      "27\n",
      "35\n",
      "---\n",
      "27\n",
      "14\n",
      "11\n",
      "22\n",
      "35\n",
      "---\n",
      "11\n",
      "22\n",
      "14\n",
      "35\n",
      "27\n"
     ]
    }
   ],
   "source": [
    "root.Inorder()\n",
    "print('---')\n",
    "root.Preorder()\n",
    "print('---')\n",
    "root.Postorder()"
   ]
  }
 ],
 "metadata": {
  "kernelspec": {
   "display_name": "Python 3 (ipykernel)",
   "language": "python",
   "name": "python3"
  },
  "language_info": {
   "codemirror_mode": {
    "name": "ipython",
    "version": 3
   },
   "file_extension": ".py",
   "mimetype": "text/x-python",
   "name": "python",
   "nbconvert_exporter": "python",
   "pygments_lexer": "ipython3",
   "version": "3.10.0"
  }
 },
 "nbformat": 4,
 "nbformat_minor": 5
}
